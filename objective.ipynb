{
 "cells": [
  {
   "cell_type": "markdown",
   "metadata": {},
   "source": [
    "# Bikin Objective Function"
   ]
  },
  {
   "cell_type": "code",
   "execution_count": 3,
   "metadata": {},
   "outputs": [],
   "source": [
    "import pandas as pd"
   ]
  },
  {
   "cell_type": "code",
   "execution_count": 6,
   "metadata": {},
   "outputs": [
    {
     "data": {
      "text/html": [
       "<div>\n",
       "<style scoped>\n",
       "    .dataframe tbody tr th:only-of-type {\n",
       "        vertical-align: middle;\n",
       "    }\n",
       "\n",
       "    .dataframe tbody tr th {\n",
       "        vertical-align: top;\n",
       "    }\n",
       "\n",
       "    .dataframe thead th {\n",
       "        text-align: right;\n",
       "    }\n",
       "</style>\n",
       "<table border=\"1\" class=\"dataframe\">\n",
       "  <thead>\n",
       "    <tr style=\"text-align: right;\">\n",
       "      <th></th>\n",
       "      <th>time</th>\n",
       "      <th>lane_ids</th>\n",
       "      <th>laneDensity</th>\n",
       "      <th>inflow</th>\n",
       "      <th>outflow</th>\n",
       "    </tr>\n",
       "  </thead>\n",
       "  <tbody>\n",
       "    <tr>\n",
       "      <th>0</th>\n",
       "      <td>21600</td>\n",
       "      <td>1_0</td>\n",
       "      <td>4.89</td>\n",
       "      <td>216</td>\n",
       "      <td>216</td>\n",
       "    </tr>\n",
       "    <tr>\n",
       "      <th>1</th>\n",
       "      <td>21600</td>\n",
       "      <td>1_1</td>\n",
       "      <td>8.74</td>\n",
       "      <td>288</td>\n",
       "      <td>288</td>\n",
       "    </tr>\n",
       "    <tr>\n",
       "      <th>2</th>\n",
       "      <td>21600</td>\n",
       "      <td>10_0</td>\n",
       "      <td>10.94</td>\n",
       "      <td>228</td>\n",
       "      <td>228</td>\n",
       "    </tr>\n",
       "    <tr>\n",
       "      <th>3</th>\n",
       "      <td>21600</td>\n",
       "      <td>10_1</td>\n",
       "      <td>10.89</td>\n",
       "      <td>276</td>\n",
       "      <td>252</td>\n",
       "    </tr>\n",
       "    <tr>\n",
       "      <th>4</th>\n",
       "      <td>21600</td>\n",
       "      <td>100_0</td>\n",
       "      <td>0.83</td>\n",
       "      <td>36</td>\n",
       "      <td>36</td>\n",
       "    </tr>\n",
       "    <tr>\n",
       "      <th>...</th>\n",
       "      <td>...</td>\n",
       "      <td>...</td>\n",
       "      <td>...</td>\n",
       "      <td>...</td>\n",
       "      <td>...</td>\n",
       "    </tr>\n",
       "    <tr>\n",
       "      <th>119743</th>\n",
       "      <td>82500</td>\n",
       "      <td>gneE397_1</td>\n",
       "      <td>0.00</td>\n",
       "      <td>0</td>\n",
       "      <td>0</td>\n",
       "    </tr>\n",
       "    <tr>\n",
       "      <th>119744</th>\n",
       "      <td>82500</td>\n",
       "      <td>gneE401_0</td>\n",
       "      <td>0.00</td>\n",
       "      <td>0</td>\n",
       "      <td>0</td>\n",
       "    </tr>\n",
       "    <tr>\n",
       "      <th>119745</th>\n",
       "      <td>82500</td>\n",
       "      <td>gneE401_1</td>\n",
       "      <td>93.37</td>\n",
       "      <td>0</td>\n",
       "      <td>0</td>\n",
       "    </tr>\n",
       "    <tr>\n",
       "      <th>119746</th>\n",
       "      <td>82500</td>\n",
       "      <td>gneE401_2</td>\n",
       "      <td>106.95</td>\n",
       "      <td>0</td>\n",
       "      <td>0</td>\n",
       "    </tr>\n",
       "    <tr>\n",
       "      <th>119747</th>\n",
       "      <td>82500</td>\n",
       "      <td>gneE401_3</td>\n",
       "      <td>0.00</td>\n",
       "      <td>0</td>\n",
       "      <td>0</td>\n",
       "    </tr>\n",
       "  </tbody>\n",
       "</table>\n",
       "<p>119748 rows × 5 columns</p>\n",
       "</div>"
      ],
      "text/plain": [
       "         time   lane_ids  laneDensity  inflow  outflow\n",
       "0       21600        1_0         4.89     216      216\n",
       "1       21600        1_1         8.74     288      288\n",
       "2       21600       10_0        10.94     228      228\n",
       "3       21600       10_1        10.89     276      252\n",
       "4       21600      100_0         0.83      36       36\n",
       "...       ...        ...          ...     ...      ...\n",
       "119743  82500  gneE397_1         0.00       0        0\n",
       "119744  82500  gneE401_0         0.00       0        0\n",
       "119745  82500  gneE401_1        93.37       0        0\n",
       "119746  82500  gneE401_2       106.95       0        0\n",
       "119747  82500  gneE401_3         0.00       0        0\n",
       "\n",
       "[119748 rows x 5 columns]"
      ]
     },
     "execution_count": 6,
     "metadata": {},
     "output_type": "execute_result"
    }
   ],
   "source": [
    "pd.read_csv('mfd-data-dqn-boltzman-min-exponen-K=25.csv', sep=\";\")"
   ]
  },
  {
   "cell_type": "markdown",
   "metadata": {},
   "source": [
    "# Data MFD\n",
    "   \n",
    "- Load data csv (Hasil dari testing)\n",
    "- Hitung MFD per episode\n",
    "- Tentuin area L1 L2 L3 L4 \n",
    "- Tentuin nilai Min/Max sesuai kebutuhan dari masing-masing area"
   ]
  },
  {
   "cell_type": "code",
   "execution_count": 1,
   "metadata": {},
   "outputs": [],
   "source": [
    "L1_min = 10\n",
    "L2_max = 13\n",
    "L3_min = 12\n",
    "L4_max = 14"
   ]
  },
  {
   "cell_type": "markdown",
   "metadata": {},
   "source": [
    "- Buat rumus bisa dibikin kuadratik, trus tiap variabel ditambahin beban random P,Q,R yang rangenya 0 sampai 1\n",
    "- buat beban jadiin 1 dulu biar gampang"
   ]
  },
  {
   "cell_type": "code",
   "execution_count": 2,
   "metadata": {},
   "outputs": [],
   "source": [
    "P = 1 \n",
    "Q = 1 \n",
    "R = 1\n",
    "S = 1\n",
    "            \n",
    "J = (P * (L2_max**2)) + (Q * L4_max**2) - (R * L1_min) - (S * L3_min) "
   ]
  },
  {
   "cell_type": "code",
   "execution_count": null,
   "metadata": {},
   "outputs": [],
   "source": []
  }
 ],
 "metadata": {
  "kernelspec": {
   "display_name": ".Env",
   "language": "python",
   "name": "python3"
  },
  "language_info": {
   "codemirror_mode": {
    "name": "ipython",
    "version": 3
   },
   "file_extension": ".py",
   "mimetype": "text/x-python",
   "name": "python",
   "nbconvert_exporter": "python",
   "pygments_lexer": "ipython3",
   "version": "3.8.5"
  },
  "orig_nbformat": 4
 },
 "nbformat": 4,
 "nbformat_minor": 2
}
