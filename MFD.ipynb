{
 "cells": [
  {
   "cell_type": "markdown",
   "metadata": {},
   "source": [
    "# MFD CHUUUUUUK"
   ]
  },
  {
   "cell_type": "code",
   "execution_count": 15,
   "metadata": {},
   "outputs": [],
   "source": [
    "import matplotlib.pyplot as plt\n",
    "import pandas as pd\n",
    "import datetime"
   ]
  },
  {
   "cell_type": "code",
   "execution_count": 29,
   "metadata": {},
   "outputs": [
    {
     "data": {
      "text/html": [
       "<div>\n",
       "<style scoped>\n",
       "    .dataframe tbody tr th:only-of-type {\n",
       "        vertical-align: middle;\n",
       "    }\n",
       "\n",
       "    .dataframe tbody tr th {\n",
       "        vertical-align: top;\n",
       "    }\n",
       "\n",
       "    .dataframe thead th {\n",
       "        text-align: right;\n",
       "    }\n",
       "</style>\n",
       "<table border=\"1\" class=\"dataframe\">\n",
       "  <thead>\n",
       "    <tr style=\"text-align: right;\">\n",
       "      <th></th>\n",
       "      <th>time</th>\n",
       "      <th>lane_ids</th>\n",
       "      <th>laneDensity</th>\n",
       "      <th>inflow</th>\n",
       "      <th>outflow</th>\n",
       "    </tr>\n",
       "  </thead>\n",
       "  <tbody>\n",
       "    <tr>\n",
       "      <th>0</th>\n",
       "      <td>21600</td>\n",
       "      <td>1_0</td>\n",
       "      <td>5.84</td>\n",
       "      <td>216</td>\n",
       "      <td>264</td>\n",
       "    </tr>\n",
       "    <tr>\n",
       "      <th>1</th>\n",
       "      <td>21600</td>\n",
       "      <td>1_1</td>\n",
       "      <td>10.38</td>\n",
       "      <td>372</td>\n",
       "      <td>312</td>\n",
       "    </tr>\n",
       "    <tr>\n",
       "      <th>2</th>\n",
       "      <td>21600</td>\n",
       "      <td>10_0</td>\n",
       "      <td>15.99</td>\n",
       "      <td>264</td>\n",
       "      <td>264</td>\n",
       "    </tr>\n",
       "    <tr>\n",
       "      <th>3</th>\n",
       "      <td>21600</td>\n",
       "      <td>10_1</td>\n",
       "      <td>14.33</td>\n",
       "      <td>312</td>\n",
       "      <td>288</td>\n",
       "    </tr>\n",
       "    <tr>\n",
       "      <th>4</th>\n",
       "      <td>21600</td>\n",
       "      <td>100_0</td>\n",
       "      <td>0.83</td>\n",
       "      <td>36</td>\n",
       "      <td>36</td>\n",
       "    </tr>\n",
       "    <tr>\n",
       "      <th>...</th>\n",
       "      <td>...</td>\n",
       "      <td>...</td>\n",
       "      <td>...</td>\n",
       "      <td>...</td>\n",
       "      <td>...</td>\n",
       "    </tr>\n",
       "    <tr>\n",
       "      <th>119743</th>\n",
       "      <td>82500</td>\n",
       "      <td>gneE397_1</td>\n",
       "      <td>0.00</td>\n",
       "      <td>0</td>\n",
       "      <td>0</td>\n",
       "    </tr>\n",
       "    <tr>\n",
       "      <th>119744</th>\n",
       "      <td>82500</td>\n",
       "      <td>gneE401_0</td>\n",
       "      <td>0.00</td>\n",
       "      <td>0</td>\n",
       "      <td>0</td>\n",
       "    </tr>\n",
       "    <tr>\n",
       "      <th>119745</th>\n",
       "      <td>82500</td>\n",
       "      <td>gneE401_1</td>\n",
       "      <td>67.11</td>\n",
       "      <td>0</td>\n",
       "      <td>0</td>\n",
       "    </tr>\n",
       "    <tr>\n",
       "      <th>119746</th>\n",
       "      <td>82500</td>\n",
       "      <td>gneE401_2</td>\n",
       "      <td>0.00</td>\n",
       "      <td>0</td>\n",
       "      <td>0</td>\n",
       "    </tr>\n",
       "    <tr>\n",
       "      <th>119747</th>\n",
       "      <td>82500</td>\n",
       "      <td>gneE401_3</td>\n",
       "      <td>0.00</td>\n",
       "      <td>0</td>\n",
       "      <td>0</td>\n",
       "    </tr>\n",
       "  </tbody>\n",
       "</table>\n",
       "<p>119748 rows × 5 columns</p>\n",
       "</div>"
      ],
      "text/plain": [
       "         time   lane_ids  laneDensity  inflow  outflow\n",
       "0       21600        1_0         5.84     216      264\n",
       "1       21600        1_1        10.38     372      312\n",
       "2       21600       10_0        15.99     264      264\n",
       "3       21600       10_1        14.33     312      288\n",
       "4       21600      100_0         0.83      36       36\n",
       "...       ...        ...          ...     ...      ...\n",
       "119743  82500  gneE397_1         0.00       0        0\n",
       "119744  82500  gneE401_0         0.00       0        0\n",
       "119745  82500  gneE401_1        67.11       0        0\n",
       "119746  82500  gneE401_2         0.00       0        0\n",
       "119747  82500  gneE401_3         0.00       0        0\n",
       "\n",
       "[119748 rows x 5 columns]"
      ]
     },
     "execution_count": 29,
     "metadata": {},
     "output_type": "execute_result"
    }
   ],
   "source": [
    "pd.read_csv('mfd-data-dqn-boltzman-weight-0.5-0.5.csv')"
   ]
  },
  {
   "cell_type": "code",
   "execution_count": 16,
   "metadata": {},
   "outputs": [],
   "source": [
    "def get_lane_length(csv_lanelength): #get lane length information\n",
    "    lanelength_data = pd.read_csv(csv_lanelength, skiprows=1, header=None)\n",
    "    lane_list = lanelength_data[0]\n",
    "    length_list = lanelength_data[1]/1000\n",
    "    #store in dictionary : \n",
    "    lane_length = dict(zip(lane_list,length_list))\n",
    "    return lane_length"
   ]
  },
  {
   "cell_type": "code",
   "execution_count": 17,
   "metadata": {},
   "outputs": [],
   "source": [
    "def get_data_group(csv_flow_and_density): #grouping data to pandas object\n",
    "    #get flow(veh/hr) and density(veh/km) in each lane for certain interval \n",
    "    flowdensity = pd.read_csv(csv_flow_and_density, header=0, sep=';')\n",
    "\n",
    "    #only for get a list of 'time' in mfd-data.csv\n",
    "    flowdensity_lane = flowdensity.groupby('lane_ids')\n",
    "    dummy_group = flowdensity_lane.get_group('1_0')\n",
    "    time_list = dummy_group['time']\n",
    "\n",
    "    #real grouping (group by time)\n",
    "    flowdensity_time = flowdensity.groupby('time')\n",
    "    return time_list, flowdensity_time"
   ]
  },
  {
   "cell_type": "code",
   "execution_count": 22,
   "metadata": {},
   "outputs": [],
   "source": [
    "def get_MFD_property(time_list, flowdensity_time,total_lane_length,lane_length_dict): #calculate Qt and Kt\n",
    "    Q = [] #list of network flow\n",
    "    K = [] #list of network density\n",
    "    #calculate network flow (Qt) and network density(Kt)\n",
    "    for time in time_list[::]:\n",
    "        the_group = flowdensity_time.get_group(time)\n",
    "        lane_ids = the_group['lane_ids']\n",
    "        lane_flows = the_group['outflow']\n",
    "        lane_densities = the_group['laneDensity']\n",
    "        flowx = []\n",
    "        densityx= []\n",
    "        #bisa dibenerin tanpa enumerate \n",
    "        for i,lane in enumerate(lane_ids):\n",
    "            lane_id = lane_ids.iloc[i]\n",
    "            lane_flow = lane_flows.iloc[i]\n",
    "            lane_density = lane_densities.iloc[i]\n",
    "            lane_length = lane_length_dict[str(lane_id)] #get lane length from earlier dictionary in lane-length.csv\n",
    "        \n",
    "            flowxlength = lane_flow*lane_length\n",
    "            flowx.append(flowxlength) #list\n",
    "            densityxlength = lane_density*lane_length\n",
    "            densityx.append(densityxlength) #list\n",
    "        Qt = sum(flowx)/total_lane_length\n",
    "        Kt = sum(densityx)/total_lane_length\n",
    "        Q.append(Qt)\n",
    "        K.append(Kt)\n",
    "    return Q, K"
   ]
  },
  {
   "cell_type": "code",
   "execution_count": 19,
   "metadata": {},
   "outputs": [],
   "source": [
    "def convert(n):\n",
    "    return str(datetime.timedelta(seconds = n))"
   ]
  },
  {
   "cell_type": "code",
   "execution_count": 32,
   "metadata": {},
   "outputs": [],
   "source": [
    "csv_lanelength = 'lane-length-new.csv'\n",
    "csv_list = ['mfd-data-dqn-boltzman-min-exponen-K=25.csv']\n",
    "# csv_list = ['Tes_DQN_1.csv']\n",
    "\n",
    "lane_length_dict = get_lane_length(csv_lanelength)\n",
    "total_lane_length = sum(lane_length_dict.values()) #total lane length in network (KM)"
   ]
  },
  {
   "cell_type": "code",
   "execution_count": 33,
   "metadata": {},
   "outputs": [],
   "source": [
    "time_list = {}\n",
    "flowdensity_time = {}\n",
    "Qn = {}\n",
    "Kn = {}\n",
    "\n",
    "for csv in csv_list:\n",
    "    time_list[csv], flowdensity_time[csv] = get_data_group(csv)\n",
    "    Qn[csv], Kn[csv] = get_MFD_property(time_list[csv],flowdensity_time[csv],total_lane_length,lane_length_dict)"
   ]
  },
  {
   "cell_type": "code",
   "execution_count": 34,
   "metadata": {},
   "outputs": [],
   "source": [
    "time_list_hr = {}\n",
    "for csv in csv_list:\n",
    "    time_list_hr[csv] = [0]\n",
    "\n",
    "for csv in csv_list :\n",
    "    for time_s in time_list[csv] :\n",
    "        time_list_hr[csv].append(convert(time_s))\n",
    "\n",
    "for csv in csv_list:\n",
    "    time_list_hr[csv].pop(0)\n",
    "\n",
    "\n",
    "list_interval = 2\n",
    "ticks_list = [str(n)+':00:00' for n in range(6,24,list_interval)]\n",
    "\n",
    "ticks_list_y = [d for d in range(0,250,50)]"
   ]
  },
  {
   "cell_type": "code",
   "execution_count": 35,
   "metadata": {},
   "outputs": [
    {
     "data": {
      "image/png": "[encoded data removed]",
      "text/plain": [
       "<Figure size 640x480 with 1 Axes>"
      ]
     },
     "metadata": {},
     "output_type": "display_data"
    }
   ],
   "source": [
    "plt.style.use('fivethirtyeight')\n",
    "\n",
    "# plt.scatter(Kn['mfd-data-dqn-boltzman-weight-0.5-0.5.csv'],Qn['mfd-data-dqn-boltzman-weight-0.5-0.5.csv'],color='black',label='DQN-boltzman-reward = -exponent') # K = 25\n",
    "plt.scatter(Kn['mfd-data-dqn-boltzman-min-exponen-K=25.csv'],Qn['mfd-data-dqn-boltzman-min-exponen-K=25.csv'],color='black') # K = 25\n",
    "# plt.scatter(Kn['Tes_DQN_1.csv'],Qn['Tes_DQN_1.csv'],color='black',label='DQN-boltzman-reward = -exponent') # K = 25\n",
    "\n",
    "plt.yticks(ticks_list_y)\n",
    "plt.title('Macroscopic Fundamental Diagram')\n",
    "plt.xlabel('Network Density (veh/km)')\n",
    "plt.ylabel('Network Flow (veh/hr)')\n",
    "# plt.legend(loc='upper right', frameon=False)\n",
    "plt.show()"
   ]
  },
  {
   "cell_type": "code",
   "execution_count": null,
   "metadata": {},
   "outputs": [],
   "source": []
  }
 ],
 "metadata": {
  "kernelspec": {
   "display_name": ".Env",
   "language": "python",
   "name": "python3"
  },
  "language_info": {
   "codemirror_mode": {
    "name": "ipython",
    "version": 3
   },
   "file_extension": ".py",
   "mimetype": "text/x-python",
   "name": "python",
   "nbconvert_exporter": "python",
   "pygments_lexer": "ipython3",
   "version": "3.8.5"
  },
  "orig_nbformat": 4
 },
 "nbformat": 4,
 "nbformat_minor": 2
}
