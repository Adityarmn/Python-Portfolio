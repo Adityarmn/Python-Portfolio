{
 "cells": [
  {
   "cell_type": "code",
   "execution_count": 1,
   "metadata": {},
   "outputs": [],
   "source": [
    "import xml.etree.ElementTree as ET\n",
    "import pandas as pd\n",
    "import datetime"
   ]
  },
  {
   "cell_type": "code",
   "execution_count": 2,
   "metadata": {},
   "outputs": [],
   "source": [
    "def get_lane_length(df_lanelength): #get lane length information\n",
    "    lanelength_data = pd.read_csv(df_lanelength, skiprows=1, header=None) \n",
    "    lane_list = lanelength_data[0]\n",
    "    length_list = lanelength_data[1]/1000\n",
    "    #store in dictionary : \n",
    "    lane_length = dict(zip(lane_list,length_list))\n",
    "    return lane_length"
   ]
  },
  {
   "cell_type": "code",
   "execution_count": 3,
   "metadata": {},
   "outputs": [],
   "source": [
    "def get_data_group(df_flow_and_density): #grouping data to pandas object\n",
    "    #get flow(veh/hr) and density(veh/km) in each lane for certain interval \n",
    "    flowdensity = df_flow_and_density\n",
    "\n",
    "    #only for get a list of 'time' in mfd-data.csv\n",
    "    flowdensity_lane = flowdensity.groupby('lane_ids')\n",
    "    dummy_group = flowdensity_lane.get_group('1_0')\n",
    "    time_list = dummy_group['time']\n",
    "\n",
    "    #real grouping (group by time)\n",
    "    flowdensity_time = flowdensity.groupby('time')\n",
    "    return time_list, flowdensity_time"
   ]
  },
  {
   "cell_type": "code",
   "execution_count": 4,
   "metadata": {},
   "outputs": [],
   "source": [
    "def get_MFD_property(time_list, flowdensity_time,total_lane_length,lane_length_dict): #calculate Qt and Kt\n",
    "    Q = [] #list of network flow\n",
    "    K = [] #list of network density\n",
    "    #calculate network flow (Qt) and network density(Kt)\n",
    "    for time in time_list:\n",
    "        the_group = flowdensity_time.get_group(time)\n",
    "        lane_ids = the_group['lane_ids']\n",
    "        lane_flows = the_group['outflow']\n",
    "        lane_densities = the_group['laneDensity']\n",
    "        flowx = []\n",
    "        densityx= []\n",
    "        #bisa dibenerin tanpa enumerate \n",
    "        for i,lane in enumerate(lane_ids):\n",
    "            lane_id = lane_ids.iloc[i]\n",
    "            lane_flow = lane_flows.iloc[i]\n",
    "            lane_densities = lane_densities.astype(float)\n",
    "            lane_density = lane_densities.iloc[i]\n",
    "            lane_length = lane_length_dict[str(lane_id)] #get lane length from earlier dictionary in lane-length.csv\n",
    "        \n",
    "            flowxlength = lane_flow*lane_length\n",
    "            flowx.append(flowxlength) #list\n",
    "            densityxlength = lane_density*lane_length\n",
    "            densityx.append(densityxlength) #list\n",
    "        Qt = sum(flowx)/total_lane_length\n",
    "        Kt = sum(densityx)/total_lane_length\n",
    "        Q.append(Qt)\n",
    "        K.append(Kt)\n",
    "    return Q, K"
   ]
  },
  {
   "cell_type": "code",
   "execution_count": 5,
   "metadata": {},
   "outputs": [],
   "source": [
    "def convert(n):\n",
    "    return str(datetime.timedelta(seconds = n))"
   ]
  },
  {
   "cell_type": "code",
   "execution_count": 6,
   "metadata": {},
   "outputs": [],
   "source": [
    "csv_lanelength = 'lane-length-new.csv'\n",
    "# csv_list = ['Tes_DQN_1.csv']\n",
    "\n",
    "lane_length_dict = get_lane_length(csv_lanelength)\n",
    "total_lane_length = sum(lane_length_dict.values()) #total lane length in network (KM)"
   ]
  },
  {
   "cell_type": "code",
   "execution_count": 7,
   "metadata": {},
   "outputs": [],
   "source": [
    "# Define a list to store the data\n",
    "data = []\n",
    "tree = ET.parse('net_jkt-new/output/lane-data.xml')\n",
    "root = tree.getroot()\n",
    "\n",
    "# Iterate over all \"interval\" elements in the root\n",
    "for interval in root:\n",
    "    # Get the attributes of the interval\n",
    "    interval_attribs = interval.attrib\n",
    "    \n",
    "    # Iterate over all \"edge\" elements in the interval\n",
    "    for edge in interval:\n",
    "        # Get the attributes of the edge\n",
    "        edge_attribs = edge.attrib\n",
    "        \n",
    "        # Iterate over all \"lane\" elements in the edge\n",
    "        for lane in edge:\n",
    "            # Get the attributes of the lane\n",
    "            lane_attribs = lane.attrib\n",
    "            \n",
    "            # Combine the attributes of the interval, edge, and lane\n",
    "            combined_attribs = {**interval_attribs, **edge_attribs, **lane_attribs}\n",
    "            \n",
    "            # Append the combined attributes to the data list\n",
    "            data.append(combined_attribs)\n",
    "\n",
    "# Convert the data list to a DataFrame\n",
    "df = pd.DataFrame(data)"
   ]
  },
  {
   "cell_type": "code",
   "execution_count": 8,
   "metadata": {},
   "outputs": [],
   "source": [
    "df = pd.DataFrame(data)\n",
    "\n",
    "df['departed'] = df['departed'].astype(int)\n",
    "df['entered'] = df['entered'].astype(int)\n",
    "df['arrived'] = df['arrived'].astype(int)\n",
    "df['left'] = df['left'].astype(int)\n",
    "\n",
    "df['inflow'] = (df['departed'] + df['entered']) * 12\n",
    "df['outflow'] = (df['arrived'] + df['left']) * 12\n",
    "\n",
    "df = df[['begin', 'id', 'laneDensity', 'inflow', 'outflow']]\n",
    "\n",
    "# Rename \"begin\" column to \"time\" and id column to \"lane_ids\"\n",
    "df = df.rename(columns={'begin': 'time', 'id': 'lane_ids'})"
   ]
  },
  {
   "cell_type": "code",
   "execution_count": 9,
   "metadata": {},
   "outputs": [
    {
     "data": {
      "text/html": [
       "<div>\n",
       "<style scoped>\n",
       "    .dataframe tbody tr th:only-of-type {\n",
       "        vertical-align: middle;\n",
       "    }\n",
       "\n",
       "    .dataframe tbody tr th {\n",
       "        vertical-align: top;\n",
       "    }\n",
       "\n",
       "    .dataframe thead th {\n",
       "        text-align: right;\n",
       "    }\n",
       "</style>\n",
       "<table border=\"1\" class=\"dataframe\">\n",
       "  <thead>\n",
       "    <tr style=\"text-align: right;\">\n",
       "      <th></th>\n",
       "      <th>time</th>\n",
       "      <th>lane_ids</th>\n",
       "      <th>laneDensity</th>\n",
       "      <th>inflow</th>\n",
       "      <th>outflow</th>\n",
       "    </tr>\n",
       "  </thead>\n",
       "  <tbody>\n",
       "    <tr>\n",
       "      <th>0</th>\n",
       "      <td>28800.00</td>\n",
       "      <td>1_0</td>\n",
       "      <td>7.28</td>\n",
       "      <td>180</td>\n",
       "      <td>156</td>\n",
       "    </tr>\n",
       "    <tr>\n",
       "      <th>1</th>\n",
       "      <td>28800.00</td>\n",
       "      <td>1_1</td>\n",
       "      <td>7.46</td>\n",
       "      <td>144</td>\n",
       "      <td>156</td>\n",
       "    </tr>\n",
       "    <tr>\n",
       "      <th>2</th>\n",
       "      <td>28800.00</td>\n",
       "      <td>10_0</td>\n",
       "      <td>11.99</td>\n",
       "      <td>156</td>\n",
       "      <td>120</td>\n",
       "    </tr>\n",
       "    <tr>\n",
       "      <th>3</th>\n",
       "      <td>28800.00</td>\n",
       "      <td>10_1</td>\n",
       "      <td>11.22</td>\n",
       "      <td>156</td>\n",
       "      <td>120</td>\n",
       "    </tr>\n",
       "    <tr>\n",
       "      <th>4</th>\n",
       "      <td>28800.00</td>\n",
       "      <td>100_0</td>\n",
       "      <td>0.60</td>\n",
       "      <td>24</td>\n",
       "      <td>12</td>\n",
       "    </tr>\n",
       "    <tr>\n",
       "      <th>...</th>\n",
       "      <td>...</td>\n",
       "      <td>...</td>\n",
       "      <td>...</td>\n",
       "      <td>...</td>\n",
       "      <td>...</td>\n",
       "    </tr>\n",
       "    <tr>\n",
       "      <th>582</th>\n",
       "      <td>28800.00</td>\n",
       "      <td>gneE397_1</td>\n",
       "      <td>NaN</td>\n",
       "      <td>0</td>\n",
       "      <td>0</td>\n",
       "    </tr>\n",
       "    <tr>\n",
       "      <th>583</th>\n",
       "      <td>28800.00</td>\n",
       "      <td>gneE401_0</td>\n",
       "      <td>NaN</td>\n",
       "      <td>0</td>\n",
       "      <td>0</td>\n",
       "    </tr>\n",
       "    <tr>\n",
       "      <th>584</th>\n",
       "      <td>28800.00</td>\n",
       "      <td>gneE401_1</td>\n",
       "      <td>58.97</td>\n",
       "      <td>168</td>\n",
       "      <td>156</td>\n",
       "    </tr>\n",
       "    <tr>\n",
       "      <th>585</th>\n",
       "      <td>28800.00</td>\n",
       "      <td>gneE401_2</td>\n",
       "      <td>NaN</td>\n",
       "      <td>0</td>\n",
       "      <td>0</td>\n",
       "    </tr>\n",
       "    <tr>\n",
       "      <th>586</th>\n",
       "      <td>28800.00</td>\n",
       "      <td>gneE401_3</td>\n",
       "      <td>14.99</td>\n",
       "      <td>36</td>\n",
       "      <td>24</td>\n",
       "    </tr>\n",
       "  </tbody>\n",
       "</table>\n",
       "<p>587 rows × 5 columns</p>\n",
       "</div>"
      ],
      "text/plain": [
       "         time   lane_ids laneDensity  inflow  outflow\n",
       "0    28800.00        1_0        7.28     180      156\n",
       "1    28800.00        1_1        7.46     144      156\n",
       "2    28800.00       10_0       11.99     156      120\n",
       "3    28800.00       10_1       11.22     156      120\n",
       "4    28800.00      100_0        0.60      24       12\n",
       "..        ...        ...         ...     ...      ...\n",
       "582  28800.00  gneE397_1         NaN       0        0\n",
       "583  28800.00  gneE401_0         NaN       0        0\n",
       "584  28800.00  gneE401_1       58.97     168      156\n",
       "585  28800.00  gneE401_2         NaN       0        0\n",
       "586  28800.00  gneE401_3       14.99      36       24\n",
       "\n",
       "[587 rows x 5 columns]"
      ]
     },
     "execution_count": 9,
     "metadata": {},
     "output_type": "execute_result"
    }
   ],
   "source": [
    "df"
   ]
  },
  {
   "cell_type": "code",
   "execution_count": 10,
   "metadata": {},
   "outputs": [],
   "source": [
    "df = df.dropna()"
   ]
  },
  {
   "cell_type": "code",
   "execution_count": 11,
   "metadata": {},
   "outputs": [],
   "source": [
    "time_list = {}\n",
    "flowdensity_time = {}\n",
    "Qn = {}\n",
    "Kn = {}"
   ]
  },
  {
   "cell_type": "code",
   "execution_count": 12,
   "metadata": {},
   "outputs": [],
   "source": [
    "time_list, flowdensity_time = get_data_group(df)"
   ]
  },
  {
   "cell_type": "code",
   "execution_count": 13,
   "metadata": {},
   "outputs": [],
   "source": [
    "Qn, Kn = get_MFD_property(time_list,flowdensity_time,total_lane_length,lane_length_dict)"
   ]
  },
  {
   "cell_type": "code",
   "execution_count": 14,
   "metadata": {},
   "outputs": [
    {
     "data": {
      "text/plain": [
       "[43.81311986860269]"
      ]
     },
     "execution_count": 14,
     "metadata": {},
     "output_type": "execute_result"
    }
   ],
   "source": [
    "Qn"
   ]
  },
  {
   "cell_type": "code",
   "execution_count": 15,
   "metadata": {},
   "outputs": [
    {
     "data": {
      "text/plain": [
       "[3.222221174081932]"
      ]
     },
     "execution_count": 15,
     "metadata": {},
     "output_type": "execute_result"
    }
   ],
   "source": [
    "Kn"
   ]
  },
  {
   "cell_type": "code",
   "execution_count": 16,
   "metadata": {},
   "outputs": [],
   "source": [
    "import matplotlib.pyplot as plt"
   ]
  },
  {
   "cell_type": "code",
   "execution_count": 17,
   "metadata": {},
   "outputs": [
    {
     "data": {
      "image/png": "[encoded data removed]",
      "text/plain": [
       "<Figure size 640x480 with 1 Axes>"
      ]
     },
     "metadata": {},
     "output_type": "display_data"
    }
   ],
   "source": [
    "plt.plot(Kn, Qn, 'o')\n",
    "plt.show()"
   ]
  },
  {
   "cell_type": "code",
   "execution_count": null,
   "metadata": {},
   "outputs": [],
   "source": []
  }
 ],
 "metadata": {
  "kernelspec": {
   "display_name": ".Env",
   "language": "python",
   "name": "python3"
  },
  "language_info": {
   "codemirror_mode": {
    "name": "ipython",
    "version": 3
   },
   "file_extension": ".py",
   "mimetype": "text/x-python",
   "name": "python",
   "nbconvert_exporter": "python",
   "pygments_lexer": "ipython3",
   "version": "3.8.5"
  },
  "orig_nbformat": 4
 },
 "nbformat": 4,
 "nbformat_minor": 2
}
