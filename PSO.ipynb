{
 "cells": [
  {
   "attachments": {},
   "cell_type": "markdown",
   "metadata": {},
   "source": [
    "# Step PSO\n",
    "1. Fungsi objektif -> variabel keputusan -> posisi si swarm partikel\n",
    "2. tentukan nilai W, C1 dan C2\n",
    "3. inisialisasi random posisi swarm partikel dari variabel keputusan\n",
    "4. inisialisasi kecepatan random setiap swarm partikel\n",
    "5. hitung pbest dan gbest\n",
    "6. update kecepatan berdasarkan pbest dan gbest\n",
    "7. cek pbest vs gbest -> true dan false\n",
    "8. true -> done"
   ]
  },
  {
   "cell_type": "code",
   "execution_count": 13,
   "metadata": {},
   "outputs": [],
   "source": [
    "import numpy as np\n",
    "import matplotlib.pyplot as plt\n",
    "from Simulasi import validasi"
   ]
  },
  {
   "attachments": {},
   "cell_type": "markdown",
   "metadata": {},
   "source": [
    "## inisialisasi nilai C1 dan C2"
   ]
  },
  {
   "cell_type": "code",
   "execution_count": 14,
   "metadata": {},
   "outputs": [],
   "source": [
    "max_iteration = 100\n",
    "error_max = 0.01\n",
    "#Nilai c1,c2, dan W divariasikan hingga menghasilkan hasil yang paling optimal\n",
    "c1 = 0.1 # cognitif parameter\n",
    "c2 = 0.1 # social coefficient\n",
    "W = 0.8 # weight\n",
    "jumlah_partikel = 20"
   ]
  },
  {
   "attachments": {},
   "cell_type": "markdown",
   "metadata": {},
   "source": [
    "## inisialisasi partikel"
   ]
  },
  {
   "cell_type": "code",
   "execution_count": 15,
   "metadata": {},
   "outputs": [],
   "source": [
    "# random x1 x2 sesuai jumlah partikel\n",
    "x1 = 5*np.random.rand(1,jumlah_partikel)[0]\n",
    "x2 = 5*np.random.rand(1,jumlah_partikel)[0]\n",
    "\n",
    "# random vx1 vx2 sesuai jumlah partikel\n",
    "vx1 = np.random.rand(1,jumlah_partikel)[0]\n",
    "vx2 = np.random.rand(1,jumlah_partikel)[0]"
   ]
  },
  {
   "attachments": {},
   "cell_type": "markdown",
   "metadata": {},
   "source": [
    "## hitung pbest dan gbest awal"
   ]
  },
  {
   "cell_type": "code",
   "execution_count": 42,
   "metadata": {},
   "outputs": [],
   "source": [
    "J = !Simulasi.py -beta 12 -density 12 -start 12 -finish 12 -runs 1"
   ]
  },
  {
   "cell_type": "code",
   "execution_count": 44,
   "metadata": {},
   "outputs": [
    {
     "name": "stderr",
     "output_type": "stream",
     "text": [
      "usage: ipykernel_launcher.py [-h] [-route ROUTE] [-a ALPHA] [-g GAMMA]\n",
      "                             [-e EPSILON] [-mingreen MIN_GREEN]\n",
      "                             [-maxgreen MAX_GREEN] [-gui] [-fixed]\n",
      "                             [-start START] [-finish FINISH] [-runs RUNS]\n",
      "                             [-beta BETA] [-density DENSITY]\n",
      "ipykernel_launcher.py: error: unrecognized arguments: --ip=127.0.0.1 --stdin=9011 --control=9009 --hb=9008 --Session.signature_scheme=\"hmac-sha256\" --Session.key=b\"a5a3eadd-e09c-4e49-bea3-ae5520d17cb6\" --shell=9010 --transport=\"tcp\" --iopub=9014 --f=\"c:\\Users\\Muhammad Aditya\\AppData\\Roaming\\jupyter\\runtime\\kernel-v2-18148pmSNbU4oZ5uG.json\"\n"
     ]
    },
    {
     "ename": "SystemExit",
     "evalue": "2",
     "output_type": "error",
     "traceback": [
      "An exception has occurred, use %tb to see the full traceback.\n",
      "\u001b[1;31mSystemExit\u001b[0m\u001b[1;31m:\u001b[0m 2\n"
     ]
    },
    {
     "name": "stderr",
     "output_type": "stream",
     "text": [
      "c:\\Users\\Muhammad Aditya\\Dropbox\\My PC (LAPTOP-2EJVIHN3)\\Documents\\TA\\Github\\TA\\.Env\\lib\\site-packages\\IPython\\core\\interactiveshell.py:3516: UserWarning: To exit: use 'exit', 'quit', or Ctrl-D.\n",
      "  warn(\"To exit: use 'exit', 'quit', or Ctrl-D.\", stacklevel=1)\n"
     ]
    }
   ],
   "source": [
    "objective = validasi(beta=beta, density=density, time_start=time_start, time_end=time_end, runs=1)"
   ]
  },
  {
   "cell_type": "code",
   "execution_count": 43,
   "metadata": {},
   "outputs": [
    {
     "data": {
      "text/plain": [
       "[]"
      ]
     },
     "execution_count": 43,
     "metadata": {},
     "output_type": "execute_result"
    }
   ],
   "source": [
    "J"
   ]
  },
  {
   "cell_type": "code",
   "execution_count": 32,
   "metadata": {},
   "outputs": [
    {
     "name": "stderr",
     "output_type": "stream",
     "text": [
      "usage: ipykernel_launcher.py [-h] [-route ROUTE] [-a ALPHA] [-g GAMMA]\n",
      "                             [-e EPSILON] [-mingreen MIN_GREEN]\n",
      "                             [-maxgreen MAX_GREEN] [-gui] [-fixed]\n",
      "                             [-start START] [-finish FINISH] [-runs RUNS]\n",
      "                             [-beta BETA] [-density DENSITY]\n",
      "ipykernel_launcher.py: error: unrecognized arguments: --ip=127.0.0.1 --stdin=9011 --control=9009 --hb=9008 --Session.signature_scheme=\"hmac-sha256\" --Session.key=b\"a5a3eadd-e09c-4e49-bea3-ae5520d17cb6\" --shell=9010 --transport=\"tcp\" --iopub=9014 --f=\"c:\\Users\\Muhammad Aditya\\AppData\\Roaming\\jupyter\\runtime\\kernel-v2-18148pmSNbU4oZ5uG.json\"\n"
     ]
    },
    {
     "ename": "SystemExit",
     "evalue": "2",
     "output_type": "error",
     "traceback": [
      "An exception has occurred, use %tb to see the full traceback.\n",
      "\u001b[1;31mSystemExit\u001b[0m\u001b[1;31m:\u001b[0m 2\n"
     ]
    }
   ],
   "source": [
    "#Cari Objective Function\n",
    "beta = 2\n",
    "density = 3\n",
    "time_start = 4\n",
    "time_end = 5\n",
    "objective = validasi(beta=beta, density=density, time_start=time_start, time_end=time_end, runs=1)\n",
    "\n",
    "# pbest = np.array([x1,x2])\n",
    "# gbest = np.array([[pbest[0,index_terbaik]],[pbest[1,index_terbaik]]]) # ambil nilai komponen kolom ke index terbaik dan seluruh baris\n",
    "# print(index_terbaik)\n",
    "# print(pbest)\n",
    "# print(gbest)"
   ]
  },
  {
   "attachments": {},
   "cell_type": "markdown",
   "metadata": {},
   "source": [
    "## update kecepatan, cek pbest dan gbest baru sampai konvergen"
   ]
  },
  {
   "cell_type": "code",
   "execution_count": 17,
   "metadata": {},
   "outputs": [
    {
     "ename": "NameError",
     "evalue": "name 'pbest' is not defined",
     "output_type": "error",
     "traceback": [
      "\u001b[1;31m---------------------------------------------------------------------------\u001b[0m",
      "\u001b[1;31mNameError\u001b[0m                                 Traceback (most recent call last)",
      "Cell \u001b[1;32mIn[17], line 10\u001b[0m\n\u001b[0;32m      8\u001b[0m \u001b[39miter\u001b[39m \u001b[39m=\u001b[39m \u001b[39m0\u001b[39m\n\u001b[0;32m      9\u001b[0m \u001b[39mwhile\u001b[39;00m \u001b[39mTrue\u001b[39;00m:\n\u001b[1;32m---> 10\u001b[0m \tv_next \u001b[39m=\u001b[39m W \u001b[39m*\u001b[39m v \u001b[39m+\u001b[39m c1\u001b[39m*\u001b[39mr1\u001b[39m*\u001b[39m(pbest \u001b[39m-\u001b[39m x) \u001b[39m+\u001b[39m c2\u001b[39m*\u001b[39mr2\u001b[39m*\u001b[39m(gbest \u001b[39m-\u001b[39m x)\n\u001b[0;32m     11\u001b[0m \tx_next \u001b[39m=\u001b[39m x \u001b[39m+\u001b[39m v_next\n\u001b[0;32m     12\u001b[0m \tx1_next \u001b[39m=\u001b[39m x_next[\u001b[39m0\u001b[39m,:]\n",
      "\u001b[1;31mNameError\u001b[0m: name 'pbest' is not defined"
     ]
    }
   ],
   "source": [
    "v = np.array([vx1,vx2])\n",
    "x = np.array([x1,x2])\n",
    "r1 = np.random.rand()\n",
    "r2 = np.random.rand()\n",
    "\n",
    "objective_next = [0 for i in range(jumlah_partikel)]\n",
    "\n",
    "iter = 0\n",
    "while True:\n",
    "\tv_next = W * v + c1*r1*(pbest - x) + c2*r2*(gbest - x)\n",
    "\tx_next = x + v_next\n",
    "\tx1_next = x_next[0,:]\n",
    "\tx2_next = x_next[1,:]\n",
    "\tfor i in range(jumlah_partikel):\n",
    "\t\tobjective_next[i] = validasi(x1_next[i],x2_next[i], time_start=6*3600, time_end=23*3600) #nanti x1 x2 diganti beta sama density\n",
    "\n",
    "\t#objective_next = (x1_next-3.14)**2 + (x2_next-2.72)**2 + np.sin(3*x1_next+1.41) + np.sin(4*x2_next-1.73)\n",
    "\t\n",
    "\tfor j in range(jumlah_partikel):\n",
    "\t\tif objective_next[j] < objective[j]:\n",
    "\t\t\tpbest[0,j] = x1_next[j]\n",
    "\t\t\tpbest[1,j] = x2_next[j]\n",
    "\t\telse:\n",
    "\t\t\tNone\n",
    "\t\t\t\n",
    "\tobjective = objective_next\n",
    "\tindex_terbaik = np.argmin(objective_next)\n",
    "\tgbest = np.array([[pbest[0,index_terbaik]],[pbest[1,index_terbaik]]]) # ambil nilai komponen kolom ke index terbaik dan seluruh baris\n",
    "\n",
    "\tv = v_next\n",
    "\tx = np.array([x1_next,x2_next])\n",
    "\n",
    "\terror = pbest-gbest\n",
    "\tstatus = np.linalg.norm(error,axis=0) < error_max\n",
    "\t\n",
    "\tif status.all() or iter > max_iteration:\n",
    "\t\tbreak\n",
    "\t\n",
    "\titer = iter + 1"
   ]
  },
  {
   "attachments": {},
   "cell_type": "markdown",
   "metadata": {},
   "source": [
    "## objective function untuk plotting"
   ]
  },
  {
   "cell_type": "code",
   "execution_count": null,
   "metadata": {},
   "outputs": [],
   "source": [
    "def f(x,y):\n",
    "    \"Objective function\"\n",
    "    return J\n",
    "    \n",
    "# Compute and plot the function in 3D within [0,5]x[0,5]\n",
    "x_mesh, y_mesh = np.array(np.meshgrid(np.linspace(0,5,100), np.linspace(0,5,100)))\n",
    "z_mesh = f(x_mesh, y_mesh)\n",
    "\n",
    "# Find the global minimum\n",
    "x_min = x_mesh.ravel()[z_mesh.argmin()]\n",
    "y_min = y_mesh.ravel()[z_mesh.argmin()]\n"
   ]
  },
  {
   "cell_type": "code",
   "execution_count": null,
   "metadata": {},
   "outputs": [],
   "source": [
    "# Set up base figure: The contour map\n",
    "fig, ax = plt.subplots(figsize=(8,6))\n",
    "fig.set_tight_layout(True)\n",
    "img = ax.imshow(z_mesh, extent=[0, 5, 0, 5], origin='lower', cmap='viridis', alpha=0.4)\n",
    "fig.colorbar(img, ax=ax)\n",
    "ax.plot([x_min], [y_min], marker='x', markersize=5, color=\"white\")\n",
    "contours = ax.contour(x_mesh, y_mesh, z_mesh, 10, colors='black', alpha=0.3)\n",
    "ax.clabel(contours, inline=True, fontsize=8, fmt=\"%.0f\")\n",
    "ax.set_xlim([0,5])\n",
    "ax.set_ylim([0,5])\n",
    "pbest_plot = ax.scatter(pbest[0,:], pbest[1,:], marker='o', color='black', alpha=0.4)\n",
    "p_plot = ax.scatter(x[0,:], x[1,:], marker='o', color='blue', alpha=0.5)\n",
    "p_arrow = ax.quiver(x[0,:], x[1,:], v[0,:], v[1,:], color='blue', width=0.005, angles='xy', scale_units='xy', scale=1)\n",
    "gbest_plot = plt.scatter([gbest[0,:]], [gbest[1,:]], marker='*', s=100, color='black', alpha=0.4)"
   ]
  },
  {
   "cell_type": "code",
   "execution_count": null,
   "metadata": {},
   "outputs": [],
   "source": [
    "print(objective_next)\n",
    "print(gbest)\n",
    "print(iter)"
   ]
  }
 ],
 "metadata": {
  "kernelspec": {
   "display_name": ".env",
   "language": "python",
   "name": "python3"
  },
  "language_info": {
   "codemirror_mode": {
    "name": "ipython",
    "version": 3
   },
   "file_extension": ".py",
   "mimetype": "text/x-python",
   "name": "python",
   "nbconvert_exporter": "python",
   "pygments_lexer": "ipython3",
   "version": "3.8.5"
  },
  "orig_nbformat": 4
 },
 "nbformat": 4,
 "nbformat_minor": 2
}
